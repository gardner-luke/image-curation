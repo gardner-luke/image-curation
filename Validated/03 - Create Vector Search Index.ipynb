{
 "cells": [
  {
   "cell_type": "code",
   "execution_count": 0,
   "metadata": {
    "application/vnd.databricks.v1+cell": {
     "cellMetadata": {},
     "inputWidgets": {},
     "nuid": "284782bc-c75e-4299-8cc3-bb1fe8a2f413",
     "showTitle": false,
     "tableResultSettingsMap": {},
     "title": ""
    }
   },
   "outputs": [],
   "source": [
    "# accept user input for the vector search endpoint\n",
    "# accept user input for the table name to use to upload to the endpoint\n",
    "# determine if there is a vector search endpoint that exists already based on the one that the user input, if there is available endpoint then use it, if not then create one for the user with the name specified\n",
    "# make sure that the table the user created has change data feed enabled so that the index can be created\n",
    "# once that completes, then create the index with the table that the user specified it has pre-caculated embeddings. Make sure to wait until the endpoint is available if you are creating one of your own\n",
    "# after the index is created you should check to make sure it is online and ready for use and that will be a success\n",
    "\n",
    "\"\"\"Index Structure\n",
    "Name: crop_images_directory_embeddings_index\n",
    "Primary key: file_path\n",
    "Columns to sync:\n",
    "\n",
    "file_name\n",
    "folder\n",
    "size_bytes\n",
    "created_at\n",
    "image_base64\n",
    "embeddings\n",
    "\n",
    "Embeddings\n",
    "Embedding source: Use existing embedding column (selected)\n",
    "\n",
    "Alternative: Compute embeddings\n",
    "\n",
    "Embedding vector column: embeddings\n",
    "Embedding dimension: 768\n",
    "Compute Resources\n",
    "Vector search endpoint: one-env-shared-endpoint-0\n",
    "Sync mode: Triggered (selected)\"\"\""
   ]
  }
 ],
 "metadata": {
  "application/vnd.databricks.v1+notebook": {
   "computePreferences": null,
   "dashboards": [],
   "environmentMetadata": {
    "base_environment": "dbe_65bc13ea-276c-4905-a728-9fe2fb1780e2",
    "environment_version": "3"
   },
   "inputWidgetPreferences": null,
   "language": "python",
   "notebookMetadata": {
    "pythonIndentUnit": 2
   },
   "notebookName": "03 - Create Vector Search Index",
   "widgets": {}
  },
  "language_info": {
   "name": "python"
  }
 },
 "nbformat": 4,
 "nbformat_minor": 0
}
