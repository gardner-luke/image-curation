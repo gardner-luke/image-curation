{
 "cells": [
  {
   "cell_type": "markdown",
   "metadata": {
    "application/vnd.databricks.v1+cell": {
     "cellMetadata": {
      "byteLimit": 2048000,
      "rowLimit": 10000
     },
     "inputWidgets": {},
     "nuid": "2b57b325-2686-494d-a8ea-6db4868aabff",
     "showTitle": false,
     "tableResultSettingsMap": {},
     "title": ""
    }
   },
   "source": [
    "# Create Vector Search Index for CLIP Embeddings\n",
    "\n",
    "This notebook demonstrates how to:\n",
    "- Create or use an existing vector search endpoint\n",
    "- Enable change data feed on the embeddings table if not already enabled\n",
    "- Create a vector search index using pre-calculated CLIP embeddings\n",
    "- Wait for the index to come online and verify it's ready for similarity search\n",
    "\n",
    "The resulting vector search index will enable fast semantic similarity searches across the crop image dataset using the generated CLIP embeddings."
   ]
  },
  {
   "cell_type": "markdown",
   "metadata": {
    "application/vnd.databricks.v1+cell": {
     "cellMetadata": {
      "byteLimit": 2048000,
      "rowLimit": 10000
     },
     "inputWidgets": {},
     "nuid": "eb5bbfc0-4b57-4320-b05c-a5b3ee75ba59",
     "showTitle": false,
     "tableResultSettingsMap": {},
     "title": ""
    }
   },
   "source": [
    "## Import Required Libraries\n",
    "\n",
    "Import necessary libraries for vector search client operations and endpoint management."
   ]
  },
  {
   "cell_type": "code",
   "execution_count": 0,
   "metadata": {
    "application/vnd.databricks.v1+cell": {
     "cellMetadata": {
      "byteLimit": 2048000,
      "rowLimit": 10000
     },
     "inputWidgets": {},
     "nuid": "384645d2-e28e-4b78-9f43-fb1be1194579",
     "showTitle": false,
     "tableResultSettingsMap": {},
     "title": ""
    }
   },
   "outputs": [],
   "source": [
    "%pip install --upgrade --force-reinstall databricks-vectorsearch\n",
    "dbutils.library.restartPython()"
   ]
  },
  {
   "cell_type": "code",
   "execution_count": 0,
   "metadata": {
    "application/vnd.databricks.v1+cell": {
     "cellMetadata": {
      "byteLimit": 2048000,
      "rowLimit": 10000
     },
     "inputWidgets": {},
     "nuid": "2476ab9f-78d1-4920-a4ed-adaf411ea5b9",
     "showTitle": false,
     "tableResultSettingsMap": {},
     "title": ""
    }
   },
   "outputs": [],
   "source": [
    "from databricks.vector_search.client import VectorSearchClient\n",
    "import time"
   ]
  },
  {
   "cell_type": "markdown",
   "metadata": {
    "application/vnd.databricks.v1+cell": {
     "cellMetadata": {
      "byteLimit": 2048000,
      "rowLimit": 10000
     },
     "inputWidgets": {},
     "nuid": "56218544-da03-46eb-a6d6-2cd99dcc9a68",
     "showTitle": false,
     "tableResultSettingsMap": {},
     "title": ""
    }
   },
   "source": [
    "## Dataset Configuration\n",
    "\n",
    "Configure the vector search parameters. Update these values to match your setup and desired endpoint/index names."
   ]
  },
  {
   "cell_type": "code",
   "execution_count": 0,
   "metadata": {
    "application/vnd.databricks.v1+cell": {
     "cellMetadata": {
      "byteLimit": 2048000,
      "rowLimit": 10000
     },
     "inputWidgets": {},
     "nuid": "c60bdfa9-e69a-4288-95aa-6809e7bfe88f",
     "showTitle": false,
     "tableResultSettingsMap": {},
     "title": ""
    }
   },
   "outputs": [],
   "source": [
    "# Dataset Configuration - Update these values for your setup\n",
    "CATALOG_NAME = \"autobricks\"  # Your Unity Catalog name\n",
    "SCHEMA_NAME = \"agriculture\"   # Your schema name\n",
    "TABLE_NAME = \"crop_images_directory_embeddings\"  # Table with embeddings from notebook 02\n",
    "INDEX_NAME = \"crop_images_directory_embeddings_index_2\"  # Desired index name\n",
    "ENDPOINT_NAME = \"one-env-shared-endpoint-0\"  # Vector search endpoint name\n",
    "\n",
    "# Construct full names\n",
    "SOURCE_TABLE = f\"{CATALOG_NAME}.{SCHEMA_NAME}.{TABLE_NAME}\"\n",
    "FULL_INDEX_NAME = f\"{CATALOG_NAME}.{SCHEMA_NAME}.{INDEX_NAME}\"\n",
    "\n",
    "# Vector search configuration\n",
    "PRIMARY_KEY = \"file_path\"\n",
    "EMBEDDING_VECTOR_COLUMN = \"embeddings\"\n",
    "EMBEDDING_DIMENSION = 768"
   ]
  },
  {
   "cell_type": "markdown",
   "metadata": {
    "application/vnd.databricks.v1+cell": {
     "cellMetadata": {
      "byteLimit": 2048000,
      "rowLimit": 10000
     },
     "inputWidgets": {},
     "nuid": "1e43b869-a667-404e-b4c3-afeffad9f08f",
     "showTitle": false,
     "tableResultSettingsMap": {},
     "title": ""
    }
   },
   "source": [
    "## Initialize Vector Search Client\n",
    "\n",
    "Create a vector search client to manage endpoints and indexes."
   ]
  },
  {
   "cell_type": "code",
   "execution_count": 0,
   "metadata": {
    "application/vnd.databricks.v1+cell": {
     "cellMetadata": {
      "byteLimit": 2048000,
      "rowLimit": 10000
     },
     "inputWidgets": {},
     "nuid": "10a5a1e2-1367-4db4-9b30-4fda50e77404",
     "showTitle": false,
     "tableResultSettingsMap": {},
     "title": ""
    }
   },
   "outputs": [],
   "source": [
    "vsc = VectorSearchClient()"
   ]
  },
  {
   "cell_type": "markdown",
   "metadata": {
    "application/vnd.databricks.v1+cell": {
     "cellMetadata": {
      "byteLimit": 2048000,
      "rowLimit": 10000
     },
     "inputWidgets": {},
     "nuid": "13a96f8f-2c15-4d42-905e-7b9c5c8a2eee",
     "showTitle": false,
     "tableResultSettingsMap": {},
     "title": ""
    }
   },
   "source": [
    "## Create Vector Search Endpoint\n",
    "\n",
    "Check if the specified vector search endpoint exists. If not, create a new one."
   ]
  },
  {
   "cell_type": "code",
   "execution_count": 0,
   "metadata": {
    "application/vnd.databricks.v1+cell": {
     "cellMetadata": {
      "byteLimit": 2048000,
      "rowLimit": 10000
     },
     "inputWidgets": {},
     "nuid": "e8fec04b-0d09-46ac-97b3-355d5f4a6af9",
     "showTitle": false,
     "tableResultSettingsMap": {},
     "title": ""
    }
   },
   "outputs": [],
   "source": [
    "# Check if endpoint exists, create if it doesn't\n",
    "try:\n",
    "    endpoint = vsc.get_endpoint(name=ENDPOINT_NAME)\n",
    "    print(f\"Using existing endpoint: {ENDPOINT_NAME}\")\n",
    "except:\n",
    "    print(f\"Creating endpoint: {ENDPOINT_NAME}\")\n",
    "    vsc.create_endpoint(\n",
    "        name=ENDPOINT_NAME,\n",
    "        endpoint_type=\"STANDARD\"\n",
    "    )\n",
    "    \n",
    "    # Wait for endpoint to be ready\n",
    "    while True:\n",
    "        endpoint = vsc.get_endpoint(name=ENDPOINT_NAME)\n",
    "        status = endpoint.get('endpoint_status', {}).get('state', 'Unknown')\n",
    "        if status == 'ONLINE':\n",
    "            break\n",
    "        time.sleep(30)\n",
    "    \n",
    "    print(f\"Endpoint {ENDPOINT_NAME} is ready\")"
   ]
  },
  {
   "cell_type": "markdown",
   "metadata": {
    "application/vnd.databricks.v1+cell": {
     "cellMetadata": {
      "byteLimit": 2048000,
      "rowLimit": 10000
     },
     "inputWidgets": {},
     "nuid": "6d621fc8-52f0-4fe6-84f5-fefb981cffd8",
     "showTitle": false,
     "tableResultSettingsMap": {},
     "title": ""
    }
   },
   "source": [
    "## Enable Change Data Feed\n",
    "\n",
    "Ensure change data feed is enabled on the embeddings table for the vector index to sync properly."
   ]
  },
  {
   "cell_type": "code",
   "execution_count": 0,
   "metadata": {
    "application/vnd.databricks.v1+cell": {
     "cellMetadata": {
      "byteLimit": 2048000,
      "rowLimit": 10000
     },
     "inputWidgets": {},
     "nuid": "3f9cc8fe-fc7d-4358-b0e2-d7e630e7c6c0",
     "showTitle": false,
     "tableResultSettingsMap": {},
     "title": ""
    }
   },
   "outputs": [],
   "source": [
    "# Enable change data feed on the source table\n",
    "try:\n",
    "    spark.sql(f\"ALTER TABLE {SOURCE_TABLE} SET TBLPROPERTIES (delta.enableChangeDataFeed = true)\")\n",
    "    print(f\"Change data feed enabled on {SOURCE_TABLE}\")\n",
    "except Exception as e:\n",
    "    print(f\"Change data feed may already be enabled: {e}\")"
   ]
  },
  {
   "cell_type": "markdown",
   "metadata": {
    "application/vnd.databricks.v1+cell": {
     "cellMetadata": {
      "byteLimit": 2048000,
      "rowLimit": 10000
     },
     "inputWidgets": {},
     "nuid": "504f0fe7-983f-4c7e-b4ad-9d468f0a623b",
     "showTitle": false,
     "tableResultSettingsMap": {},
     "title": ""
    }
   },
   "source": [
    "## Create Vector Search Index\n",
    "\n",
    "Create the vector search index using the pre-calculated CLIP embeddings from the embeddings table."
   ]
  },
  {
   "cell_type": "code",
   "execution_count": 0,
   "metadata": {
    "application/vnd.databricks.v1+cell": {
     "cellMetadata": {
      "byteLimit": 2048000,
      "rowLimit": 10000
     },
     "inputWidgets": {},
     "nuid": "60b3a66d-678c-477a-afec-341f6b429d2c",
     "showTitle": false,
     "tableResultSettingsMap": {},
     "title": ""
    }
   },
   "outputs": [],
   "source": [
    "# Create vector search index with pre-calculated embeddings\n",
    "try:\n",
    "    index = vsc.get_index(endpoint_name=ENDPOINT_NAME, index_name=FULL_INDEX_NAME)\n",
    "    print(f\"Using existing index: {FULL_INDEX_NAME}\")\n",
    "except:\n",
    "    print(f\"Creating index: {FULL_INDEX_NAME}\")\n",
    "    index = vsc.create_delta_sync_index(\n",
    "        endpoint_name=ENDPOINT_NAME,\n",
    "        source_table_name=SOURCE_TABLE,\n",
    "        index_name=FULL_INDEX_NAME,\n",
    "        pipeline_type='TRIGGERED',\n",
    "        primary_key=PRIMARY_KEY,\n",
    "        embedding_vector_column=EMBEDDING_VECTOR_COLUMN,\n",
    "        embedding_dimension=EMBEDDING_DIMENSION\n",
    "    )"
   ]
  },
  {
   "cell_type": "markdown",
   "metadata": {
    "application/vnd.databricks.v1+cell": {
     "cellMetadata": {
      "byteLimit": 2048000,
      "rowLimit": 10000
     },
     "inputWidgets": {},
     "nuid": "3d6dfa82-c4bb-41d2-8a1b-ead3921dcabd",
     "showTitle": false,
     "tableResultSettingsMap": {},
     "title": ""
    }
   },
   "source": [
    "## Wait for Index to Come Online\n",
    "\n",
    "Monitor the index status and wait for it to be fully online and ready for similarity searches."
   ]
  },
  {
   "cell_type": "code",
   "execution_count": 0,
   "metadata": {
    "application/vnd.databricks.v1+cell": {
     "cellMetadata": {
      "byteLimit": 2048000,
      "rowLimit": 10000
     },
     "inputWidgets": {},
     "nuid": "015ae6d0-f909-429c-b327-620fde23f3ba",
     "showTitle": false,
     "tableResultSettingsMap": {},
     "title": ""
    }
   },
   "outputs": [],
   "source": [
    "# Wait for index to come online\n",
    "print(\"Waiting for index to be ONLINE...\")\n",
    "\n",
    "while True:\n",
    "    try:\n",
    "        status_info = index.describe()\n",
    "        status = status_info.get('status', {}).get('detailed_state', 'Unknown')\n",
    "        \n",
    "        if status.startswith('ONLINE'):\n",
    "            print(\"Index is ONLINE and ready\")\n",
    "            break\n",
    "        elif 'FAILED' in status or 'ERROR' in status:\n",
    "            print(f\"Index creation failed with status: {status}\")\n",
    "            break\n",
    "            \n",
    "        time.sleep(30)\n",
    "        \n",
    "    except Exception as e:\n",
    "        print(f\"Error checking index status: {e}\")\n",
    "        time.sleep(30)"
   ]
  },
  {
   "cell_type": "markdown",
   "metadata": {
    "application/vnd.databricks.v1+cell": {
     "cellMetadata": {
      "byteLimit": 2048000,
      "rowLimit": 10000
     },
     "inputWidgets": {},
     "nuid": "7cf91098-031b-4e21-a270-f3d24df573ae",
     "showTitle": false,
     "tableResultSettingsMap": {},
     "title": ""
    }
   },
   "source": [
    "## Verify Index Readiness\n",
    "\n",
    "Perform a simple test to ensure the index is working correctly and ready for similarity searches."
   ]
  },
  {
   "cell_type": "code",
   "execution_count": 0,
   "metadata": {
    "application/vnd.databricks.v1+cell": {
     "cellMetadata": {
      "byteLimit": 2048000,
      "rowLimit": 10000
     },
     "inputWidgets": {},
     "nuid": "51cf6d05-aa79-4579-a7f7-18378a356708",
     "showTitle": false,
     "tableResultSettingsMap": {},
     "title": ""
    }
   },
   "outputs": [],
   "source": [
    "# Test the index with a simple query\n",
    "try:\n",
    "    sample_row = spark.sql(f\"SELECT embeddings FROM {SOURCE_TABLE} WHERE embeddings IS NOT NULL LIMIT 1\").collect()\n",
    "    \n",
    "    if sample_row:\n",
    "        test_vector = sample_row[0]['embeddings']\n",
    "        \n",
    "        test_results = index.similarity_search(\n",
    "            query_vector=test_vector,\n",
    "            columns=[\"file_name\", \"folder\", \"file_path\"],\n",
    "            num_results=3\n",
    "        )\n",
    "        \n",
    "        print(f\"Index test successful - found {len(test_results.get('result', {}).get('data_array', []))} results\")\n",
    "    else:\n",
    "        print(\"No sample embeddings found for testing\")\n",
    "        \n",
    "except Exception as e:\n",
    "    print(f\"Index test failed: {e}\")\n",
    "\n",
    "print(f\"Vector search setup complete for {FULL_INDEX_NAME}\")"
   ]
  }
 ],
 "metadata": {
  "application/vnd.databricks.v1+notebook": {
   "computePreferences": null,
   "dashboards": [],
   "environmentMetadata": null,
   "inputWidgetPreferences": null,
   "language": "python",
   "notebookMetadata": {
    "pythonIndentUnit": 2
   },
   "notebookName": "03 - Create Vector Search Index",
   "widgets": {}
  },
  "kernelspec": {
   "display_name": "Python 3",
   "language": "python",
   "name": "python3"
  },
  "language_info": {
   "name": "python"
  }
 },
 "nbformat": 4,
 "nbformat_minor": 0
}
