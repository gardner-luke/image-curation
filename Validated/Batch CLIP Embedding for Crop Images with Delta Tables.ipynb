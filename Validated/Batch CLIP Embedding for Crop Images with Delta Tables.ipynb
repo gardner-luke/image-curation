{
 "cells": [
  {
   "cell_type": "code",
   "execution_count": 0,
   "metadata": {
    "application/vnd.databricks.v1+cell": {
     "cellMetadata": {
      "byteLimit": 2048000,
      "rowLimit": 10000
     },
     "inputWidgets": {},
     "nuid": "e9143805-2062-43c3-88d6-9d596b7f4af7",
     "showTitle": false,
     "tableResultSettingsMap": {},
     "title": ""
    }
   },
   "outputs": [],
   "source": [
    "# Simple CLIP Batch Processing for Delta Tables\n",
    "\n",
    "import mlflow\n",
    "import pandas as pd\n",
    "from pyspark.sql import SparkSession\n",
    "from pyspark.sql.functions import col, udf\n",
    "from pyspark.sql.types import ArrayType, FloatType"
   ]
  },
  {
   "cell_type": "code",
   "execution_count": 0,
   "metadata": {
    "application/vnd.databricks.v1+cell": {
     "cellMetadata": {
      "byteLimit": 2048000,
      "rowLimit": 10000
     },
     "inputWidgets": {},
     "nuid": "160da15f-2596-4e39-8413-bc7a5ead6810",
     "showTitle": false,
     "tableResultSettingsMap": {},
     "title": ""
    }
   },
   "outputs": [],
   "source": [
    "# Configuration - Update these values\n",
    "MODEL_NAME = \"autobricks.agriculture.clip_embedding-356\"\n",
    "SOURCE_TABLE = \"autobricks.agriculture.crop_images_directory\"\n",
    "INPUT_COLUMN = \"image_base64\"\n",
    "INPUT_TYPE = \"image\"  # or \"image\"\n",
    "OUTPUT_TABLE = \"autobricks.agriculture.crop_images_directory_embeddings\""
   ]
  },
  {
   "cell_type": "code",
   "execution_count": 0,
   "metadata": {
    "application/vnd.databricks.v1+cell": {
     "cellMetadata": {
      "byteLimit": 2048000,
      "rowLimit": 10000
     },
     "inputWidgets": {},
     "nuid": "6f9b2b75-c57e-4555-8439-57490a8dbd99",
     "showTitle": false,
     "tableResultSettingsMap": {},
     "title": ""
    }
   },
   "outputs": [],
   "source": [
    "# Load model from Unity Catalog\n",
    "model_uri = f\"models:/{MODEL_NAME}/1\"\n",
    "model = mlflow.pyfunc.load_model(model_uri)\n",
    "print(f\"Loaded model: {MODEL_NAME}\")\n",
    "\n",
    "# Create UDF\n",
    "def get_embedding(input_text):\n",
    "    if input_text is None:\n",
    "        return None\n",
    "    \n",
    "    input_data = pd.DataFrame({\"input_data\": [input_text]})\n",
    "    params = {\"input_type\": INPUT_TYPE}\n",
    "    \n",
    "    try:\n",
    "        result = model.predict(input_data, params=params)\n",
    "        return result[0]\n",
    "    except:\n",
    "        return None\n",
    "\n",
    "embedding_udf = udf(get_embedding, ArrayType(FloatType()))"
   ]
  },
  {
   "cell_type": "code",
   "execution_count": 0,
   "metadata": {
    "application/vnd.databricks.v1+cell": {
     "cellMetadata": {
      "byteLimit": 2048000,
      "rowLimit": 10000
     },
     "inputWidgets": {},
     "nuid": "fd7c1225-a2f5-440d-b3f5-d9dd49bf75c3",
     "showTitle": false,
     "tableResultSettingsMap": {},
     "title": ""
    }
   },
   "outputs": [],
   "source": [
    "# Process table\n",
    "df = spark.table(SOURCE_TABLE).limit(10)\n",
    "print(f\"Processing {df.count()} rows\")\n",
    "\n",
    "result_df = df.withColumn(\"embeddings\", embedding_udf(col(INPUT_COLUMN)))\n",
    "\n",
    "display(result_df)"
   ]
  },
  {
   "cell_type": "code",
   "execution_count": 0,
   "metadata": {
    "application/vnd.databricks.v1+cell": {
     "cellMetadata": {
      "byteLimit": 2048000,
      "rowLimit": 10000
     },
     "inputWidgets": {},
     "nuid": "f6a8ce5a-a72e-4dd9-a1be-dce4526e61d0",
     "showTitle": false,
     "tableResultSettingsMap": {},
     "title": ""
    }
   },
   "outputs": [],
   "source": [
    "# Save to Delta table\n",
    "result_df.write \\\n",
    "         .format(\"delta\") \\\n",
    "         .mode(\"overwrite\") \\\n",
    "         .saveAsTable(OUTPUT_TABLE)\n",
    "\n",
    "print(f\"Results saved to {OUTPUT_TABLE}\")"
   ]
  }
 ],
 "metadata": {
  "application/vnd.databricks.v1+notebook": {
   "computePreferences": {
    "hardware": {
     "accelerator": null,
     "gpuPoolId": null,
     "memory": null
    }
   },
   "dashboards": [],
   "environmentMetadata": {
    "base_environment": "",
    "environment_version": "3"
   },
   "inputWidgetPreferences": null,
   "language": "python",
   "notebookMetadata": {
    "pythonIndentUnit": 2
   },
   "notebookName": "Batch CLIP Embedding for Crop Images with Delta Tables",
   "widgets": {}
  },
  "language_info": {
   "name": "python"
  }
 },
 "nbformat": 4,
 "nbformat_minor": 0
}
