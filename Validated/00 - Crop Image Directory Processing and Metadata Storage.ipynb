{
 "cells": [
  {
   "cell_type": "code",
   "execution_count": 0,
   "metadata": {
    "application/vnd.databricks.v1+cell": {
     "cellMetadata": {
      "byteLimit": 2048000,
      "rowLimit": 10000
     },
     "inputWidgets": {},
     "nuid": "acab6d9c-9019-4678-a77b-01b145b7530c",
     "showTitle": false,
     "tableResultSettingsMap": {},
     "title": ""
    }
   },
   "outputs": [],
   "source": [
    "import os\n",
    "import base64\n",
    "from datetime import datetime\n",
    "from PIL import Image\n",
    "from io import BytesIO\n",
    "from pyspark.sql import Row\n",
    "\n",
    "# Define the root volume path\n",
    "volume_root = \"/Volumes/autobricks/agriculture/crop_images\"\n",
    "\n",
    "# Recursively list all JPEG files in all folders\n",
    "def list_jpeg_files(root_path):\n",
    "    files = []\n",
    "    for dirpath, dirnames, filenames in os.walk(root_path):\n",
    "        for filename in filenames:\n",
    "            if filename.lower().endswith(\".jpg\") or filename.lower().endswith(\".jpeg\"):\n",
    "                files.append(os.path.join(dirpath, filename))\n",
    "    return files\n",
    "\n",
    "jpeg_files = list_jpeg_files(volume_root)\n",
    "print(f\"Found {len(jpeg_files)} JPEG images.\")\n",
    "\n",
    "# Collect metadata and base64-encoded image for each file\n",
    "def get_image_metadata(file_path):\n",
    "    try:\n",
    "        # Get file stats\n",
    "        stat = os.stat(file_path)\n",
    "        file_name = os.path.basename(file_path)\n",
    "        folder = os.path.dirname(file_path).replace(volume_root, \"\").lstrip(\"/\")\n",
    "        size_bytes = stat.st_size\n",
    "        created_at = datetime.fromtimestamp(stat.st_ctime)\n",
    "        # Read and encode image\n",
    "        with open(file_path, \"rb\") as f:\n",
    "            img_bytes = f.read()\n",
    "            img_b64 = base64.b64encode(img_bytes).decode()\n",
    "        return Row(\n",
    "            file_path=file_path,\n",
    "            file_name=file_name,\n",
    "            folder=folder,\n",
    "            size_bytes=size_bytes,\n",
    "            created_at=created_at,\n",
    "            image_base64=img_b64\n",
    "        )\n",
    "    except Exception as e:\n",
    "        print(f\"Error processing {file_path}: {e}\")\n",
    "        return None\n",
    "\n",
    "rows = [get_image_metadata(fp) for fp in jpeg_files]\n",
    "rows = [r for r in rows if r is not None]\n",
    "\n",
    "# Create Spark DataFrame\n",
    "images_df = spark.createDataFrame(rows)\n",
    "display(images_df)"
   ]
  },
  {
   "cell_type": "code",
   "execution_count": 0,
   "metadata": {
    "application/vnd.databricks.v1+cell": {
     "cellMetadata": {
      "byteLimit": 2048000,
      "rowLimit": 10000
     },
     "inputWidgets": {},
     "nuid": "3fe6327a-3bcb-412b-a44d-dc858efacb41",
     "showTitle": false,
     "tableResultSettingsMap": {},
     "title": ""
    }
   },
   "outputs": [],
   "source": [
    "# Save to Unity Catalog table autobricks.agriculture.crop_images_directory\n",
    "images_df.write.format(\"delta\").mode(\"overwrite\").saveAsTable(\"autobricks.agriculture.crop_images_directory\")\n",
    "print(\"✅ Table saved to autobricks.agriculture.crop_images_directory in Unity Catalog.\")"
   ]
  },
  {
   "cell_type": "code",
   "execution_count": 0,
   "metadata": {
    "application/vnd.databricks.v1+cell": {
     "cellMetadata": {},
     "inputWidgets": {},
     "nuid": "3057a29c-4b38-4d2a-894d-e70724447344",
     "showTitle": false,
     "tableResultSettingsMap": {},
     "title": ""
    }
   },
   "outputs": [],
   "source": []
  }
 ],
 "metadata": {
  "application/vnd.databricks.v1+notebook": {
   "computePreferences": {
    "hardware": {
     "accelerator": null,
     "gpuPoolId": null,
     "memory": null
    }
   },
   "dashboards": [],
   "environmentMetadata": {
    "base_environment": "",
    "environment_version": "3"
   },
   "inputWidgetPreferences": null,
   "language": "python",
   "notebookMetadata": {
    "pythonIndentUnit": 2
   },
   "notebookName": "00 - Crop Image Directory Processing and Metadata Storage",
   "widgets": {}
  },
  "language_info": {
   "name": "python"
  }
 },
 "nbformat": 4,
 "nbformat_minor": 0
}
