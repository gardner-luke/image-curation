{
 "cells": [
  {
   "cell_type": "code",
   "execution_count": 0,
   "metadata": {
    "application/vnd.databricks.v1+cell": {
     "cellMetadata": {
      "byteLimit": 2048000,
      "rowLimit": 10000
     },
     "inputWidgets": {},
     "nuid": "415920f6-b7dc-4117-9e7a-4f2e6d65614d",
     "showTitle": false,
     "tableResultSettingsMap": {},
     "title": ""
    }
   },
   "outputs": [],
   "source": [
    "# This should be a process where the embedding model hosted on an enpoint is hit and then then results which are embeddings will be provided to the index similarity search with a query_vector provided as input\n",
    "\n",
    "\n",
    "#below is sample code of how to do the search with embeddings the query vector is the vector returned from the endpoint you need to do it with my own enpoint though\n",
    "\n",
    "ENDPOINT_NAME = \"clip-embedding-endpoint-135\" \n",
    "INDEX_NAME = \"autobricks.agriculture.crop_images_directory_embeddings_index\"\n",
    "\n",
    "\n",
    "\n",
    "\"\"\"# Delta Sync Index with pre-calculated embeddings\n",
    "results = index.similarity_search(\n",
    "    query_vector=[...],\n",
    "    columns=[\"embeddings\", \"file_path\"],\n",
    "    num_results=5\n",
    "    )\"\"\""
   ]
  },
  {
   "cell_type": "code",
   "execution_count": 0,
   "metadata": {
    "application/vnd.databricks.v1+cell": {
     "cellMetadata": {},
     "inputWidgets": {},
     "nuid": "927ce48b-f433-46b7-a47b-8c1dea5cb5f7",
     "showTitle": false,
     "tableResultSettingsMap": {},
     "title": ""
    }
   },
   "outputs": [],
   "source": [
    "## Here is code that can be used as a way of querying a vector database using the databricks sdk this is meant to be part of a streamlit application but I want you to use the patterns of the functions to get the embeddings. The difference is that my model accepts a particular payload Ignore the streamlit and use the patterns to get embeddings with my model and and then do the run vector search. IGNORE THE ST STREAMLIT STUFF!\n",
    "\n",
    "\n",
    "\"\"\"Use these payload formats when calling the model serving endpoint:\n",
    "Text embedding: {'inputs': {'input_data': ['Hello world']}, 'params': {'input_type': 'text'}}\n",
    "Image embedding: {'inputs': {'input_data': ['data:image/jpeg;base64,/9j/4AAQ...']}, 'params': {'input_type': 'image'}}\"\"\"\n",
    "\n",
    "import streamlit as st\n",
    "from databricks.sdk import WorkspaceClient\n",
    "\n",
    "w = WorkspaceClient()\n",
    "\n",
    "openai_client = w.serving_endpoints.get_open_ai_client()\n",
    "\n",
    "EMBEDDING_MODEL_ENDPOINT_NAME = \"databricks-gte-large-en\"\n",
    "\n",
    "\n",
    "def get_embeddings(text):\n",
    "    try:\n",
    "        response = openai_client.embeddings.create(\n",
    "            model=EMBEDDING_MODEL_ENDPOINT_NAME, input=text\n",
    "        )\n",
    "        return response.data[0].embedding\n",
    "    except Exception as e:\n",
    "        st.text(f\"Error generating embeddings: {e}\")\n",
    "\n",
    "\n",
    "def run_vector_search(prompt: str) -> str:\n",
    "    prompt_vector = get_embeddings(prompt)\n",
    "    if prompt_vector is None or isinstance(prompt_vector, str):\n",
    "        return f\"Failed to generate embeddings: {prompt_vector}\"\n",
    "\n",
    "    columns_to_fetch = [col.strip() for col in columns.split(\",\") if col.strip()]\n",
    "\n",
    "    try:\n",
    "        query_result = w.vector_search_indexes.query_index(\n",
    "            index_name=index_name,\n",
    "            columns=columns_to_fetch,\n",
    "            query_vector=prompt_vector,\n",
    "            num_results=3,\n",
    "        )\n",
    "        return query_result.result.data_array\n",
    "    except Exception as e:\n",
    "        return f\"Error during vector search: {e}\"\n",
    "\n",
    "\n",
    "index_name = st.text_input(\n",
    "    label=\"Unity Catalog Vector search index:\",\n",
    "    placeholder=\"catalog.schema.index-name\",\n",
    ")\n",
    "\n",
    "columns = st.text_input(\n",
    "    label=\"Columns to retrieve (comma-separated):\",\n",
    "    placeholder=\"url, name\",\n",
    "    help=\"Enter one or more column names present in the vector search index, separated by commas. E.g. id, text, url.\",\n",
    ")\n",
    "\n",
    "text_input = st.text_input(\n",
    "    label=\"Enter your search query:\",\n",
    "    placeholder=\"What is Databricks?\",\n",
    "    key=\"search_query_key\",\n",
    ")\n",
    "\n",
    "if st.button(\"Run vector search\"):\n",
    "    result = run_vector_search(text_input)\n",
    "    st.write(\"Search results:\")\n",
    "    st.write(result)"
   ]
  }
 ],
 "metadata": {
  "application/vnd.databricks.v1+notebook": {
   "computePreferences": null,
   "dashboards": [],
   "environmentMetadata": {
    "base_environment": "dbe_65bc13ea-276c-4905-a728-9fe2fb1780e2",
    "environment_version": "3"
   },
   "inputWidgetPreferences": null,
   "language": "python",
   "notebookMetadata": {
    "pythonIndentUnit": 2
   },
   "notebookName": "04 - Online Inference",
   "widgets": {}
  },
  "language_info": {
   "name": "python"
  }
 },
 "nbformat": 4,
 "nbformat_minor": 0
}
