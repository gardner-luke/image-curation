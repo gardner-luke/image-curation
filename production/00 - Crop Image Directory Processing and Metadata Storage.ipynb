{
 "cells": [
  {
   "cell_type": "markdown",
   "metadata": {
    "application/vnd.databricks.v1+cell": {
     "cellMetadata": {},
     "inputWidgets": {},
     "nuid": "de906f1a-95c6-4270-85db-06c57fa8da4c",
     "showTitle": false,
     "tableResultSettingsMap": {},
     "title": ""
    },
    "vscode": {
     "languageId": "raw"
    }
   },
   "source": [
    "# Crop Image Directory Processing and Metadata Storage\n",
    "\n",
    "This notebook demonstrates how to:\n",
    "- Recursively scan a volume directory for crop image files (JPEG format)\n",
    "- Extract metadata from each image file including file stats and folder structure\n",
    "- Encode images as base64 for storage in Delta tables\n",
    "- Save the processed data to Unity Catalog as a Delta table\n",
    "\n",
    "The resulting table will serve as the foundation for downstream image processing and ML workflows."
   ]
  },
  {
   "cell_type": "markdown",
   "metadata": {
    "application/vnd.databricks.v1+cell": {
     "cellMetadata": {},
     "inputWidgets": {},
     "nuid": "de1f1171-8113-40dd-b711-55e765c0766f",
     "showTitle": false,
     "tableResultSettingsMap": {},
     "title": ""
    },
    "vscode": {
     "languageId": "raw"
    }
   },
   "source": [
    "## Import Required Libraries\n",
    "\n",
    "Import necessary libraries for file system operations, image processing, and Spark DataFrame creation."
   ]
  },
  {
   "cell_type": "code",
   "execution_count": 0,
   "metadata": {
    "application/vnd.databricks.v1+cell": {
     "cellMetadata": {
      "byteLimit": 2048000,
      "rowLimit": 10000
     },
     "inputWidgets": {},
     "nuid": "acab6d9c-9019-4678-a77b-01b145b7530c",
     "showTitle": false,
     "tableResultSettingsMap": {},
     "title": ""
    }
   },
   "outputs": [],
   "source": [
    "import os\n",
    "import base64\n",
    "from datetime import datetime\n",
    "from PIL import Image\n",
    "from io import BytesIO\n",
    "from pyspark.sql import Row"
   ]
  },
  {
   "cell_type": "markdown",
   "metadata": {
    "application/vnd.databricks.v1+cell": {
     "cellMetadata": {},
     "inputWidgets": {},
     "nuid": "51d8b892-d3a6-4dce-be83-1196d6b32a8b",
     "showTitle": false,
     "tableResultSettingsMap": {},
     "title": ""
    },
    "vscode": {
     "languageId": "raw"
    }
   },
   "source": [
    "## Dataset Configuration\n",
    "\n",
    "Configure the dataset-specific parameters. Update these values to point to your own image dataset and desired output location.\n"
   ]
  },
  {
   "cell_type": "code",
   "execution_count": 0,
   "metadata": {
    "application/vnd.databricks.v1+cell": {
     "cellMetadata": {},
     "inputWidgets": {},
     "nuid": "e73df8a8-1204-45de-897a-b0d3fb1de90f",
     "showTitle": false,
     "tableResultSettingsMap": {},
     "title": ""
    }
   },
   "outputs": [],
   "source": [
    "# Dataset Configuration - Update these values for your dataset\n",
    "VOLUME_ROOT = \"/Volumes/autobricks/agriculture/crop_images\"  # Path to your image folder\n",
    "CATALOG_NAME = \"autobricks\"  # Your Unity Catalog name\n",
    "SCHEMA_NAME = \"agriculture\"   # Your schema name\n",
    "TABLE_NAME = \"crop_images_directory\"  # Output table name"
   ]
  },
  {
   "cell_type": "markdown",
   "metadata": {
    "application/vnd.databricks.v1+cell": {
     "cellMetadata": {},
     "inputWidgets": {},
     "nuid": "0e7e767e-de85-44a4-95c2-4707d8ec24de",
     "showTitle": false,
     "tableResultSettingsMap": {},
     "title": ""
    },
    "vscode": {
     "languageId": "raw"
    }
   },
   "source": [
    "## Define File Discovery Function\n",
    "\n",
    "Create a function to recursively scan the volume directory and identify all JPEG image files.\n"
   ]
  },
  {
   "cell_type": "code",
   "execution_count": 0,
   "metadata": {
    "application/vnd.databricks.v1+cell": {
     "cellMetadata": {},
     "inputWidgets": {},
     "nuid": "4f4d9a81-9cda-458e-9e58-13da2877c9bd",
     "showTitle": false,
     "tableResultSettingsMap": {},
     "title": ""
    }
   },
   "outputs": [],
   "source": [
    "# Recursively list all JPEG files in all folders\n",
    "def list_jpeg_files(root_path):\n",
    "    files = []\n",
    "    for dirpath, dirnames, filenames in os.walk(root_path):\n",
    "        for filename in filenames:\n",
    "            if filename.lower().endswith(\".jpg\") or filename.lower().endswith(\".jpeg\"):\n",
    "                files.append(os.path.join(dirpath, filename))\n",
    "    return files"
   ]
  },
  {
   "cell_type": "markdown",
   "metadata": {
    "application/vnd.databricks.v1+cell": {
     "cellMetadata": {},
     "inputWidgets": {},
     "nuid": "5373ae86-b5c0-4016-9770-c29e39293d8c",
     "showTitle": false,
     "tableResultSettingsMap": {},
     "title": ""
    },
    "vscode": {
     "languageId": "raw"
    }
   },
   "source": [
    "## Scan Directory for Images\n",
    "\n",
    "Execute the file discovery function to find all JPEG images in the volume."
   ]
  },
  {
   "cell_type": "code",
   "execution_count": 0,
   "metadata": {
    "application/vnd.databricks.v1+cell": {
     "cellMetadata": {},
     "inputWidgets": {},
     "nuid": "197ab1f4-35c0-4bf3-b982-18cfddece4be",
     "showTitle": false,
     "tableResultSettingsMap": {},
     "title": ""
    }
   },
   "outputs": [],
   "source": [
    "jpeg_files = list_jpeg_files(VOLUME_ROOT)\n",
    "print(f\"Found {len(jpeg_files)} JPEG images.\")"
   ]
  },
  {
   "cell_type": "markdown",
   "metadata": {
    "application/vnd.databricks.v1+cell": {
     "cellMetadata": {},
     "inputWidgets": {},
     "nuid": "052061b6-39f4-4e4a-93fb-4949f0efd217",
     "showTitle": false,
     "tableResultSettingsMap": {},
     "title": ""
    },
    "vscode": {
     "languageId": "raw"
    }
   },
   "source": [
    "## Define Metadata Extraction Function\n",
    "\n",
    "Create a function to extract file metadata and encode images as base64 for each discovered image file."
   ]
  },
  {
   "cell_type": "code",
   "execution_count": 0,
   "metadata": {
    "application/vnd.databricks.v1+cell": {
     "cellMetadata": {},
     "inputWidgets": {},
     "nuid": "e169bfa7-cd5f-4a76-acda-de0c46ce8c56",
     "showTitle": false,
     "tableResultSettingsMap": {},
     "title": ""
    }
   },
   "outputs": [],
   "source": [
    "# Collect metadata and base64-encoded image for each file\n",
    "def get_image_metadata(file_path):\n",
    "    try:\n",
    "        # Get file stats\n",
    "        stat = os.stat(file_path)\n",
    "        file_name = os.path.basename(file_path)\n",
    "        folder = os.path.dirname(file_path).replace(VOLUME_ROOT, \"\").lstrip(\"/\")\n",
    "        size_bytes = stat.st_size\n",
    "        created_at = datetime.fromtimestamp(stat.st_ctime)\n",
    "        # Read and encode image\n",
    "        with open(file_path, \"rb\") as f:\n",
    "            img_bytes = f.read()\n",
    "            img_b64 = base64.b64encode(img_bytes).decode()\n",
    "        return Row(\n",
    "            file_path=file_path,\n",
    "            file_name=file_name,\n",
    "            folder=folder,\n",
    "            size_bytes=size_bytes,\n",
    "            created_at=created_at,\n",
    "            image_base64=img_b64\n",
    "        )\n",
    "    except Exception as e:\n",
    "        print(f\"Error processing {file_path}: {e}\")\n",
    "        return None\n"
   ]
  },
  {
   "cell_type": "markdown",
   "metadata": {
    "application/vnd.databricks.v1+cell": {
     "cellMetadata": {},
     "inputWidgets": {},
     "nuid": "42153789-3b2a-43c7-ad14-238351b66024",
     "showTitle": false,
     "tableResultSettingsMap": {},
     "title": ""
    },
    "vscode": {
     "languageId": "raw"
    }
   },
   "source": [
    "## Process Images and Create DataFrame\n",
    "\n",
    "Apply the metadata extraction function to all discovered images and create a Spark DataFrame with the results."
   ]
  },
  {
   "cell_type": "code",
   "execution_count": 0,
   "metadata": {
    "application/vnd.databricks.v1+cell": {
     "cellMetadata": {},
     "inputWidgets": {},
     "nuid": "0c2ab493-acc6-487a-a0d3-0b80173ef276",
     "showTitle": false,
     "tableResultSettingsMap": {},
     "title": ""
    }
   },
   "outputs": [],
   "source": [
    "rows = [get_image_metadata(fp) for fp in jpeg_files]\n",
    "rows = [r for r in rows if r is not None]\n",
    "\n",
    "# Create Spark DataFrame\n",
    "images_df = spark.createDataFrame(rows)\n",
    "display(images_df)"
   ]
  },
  {
   "cell_type": "markdown",
   "metadata": {
    "application/vnd.databricks.v1+cell": {
     "cellMetadata": {},
     "inputWidgets": {},
     "nuid": "38c1cca3-e2cd-4060-bcd6-cee7a446e4dc",
     "showTitle": false,
     "tableResultSettingsMap": {},
     "title": ""
    },
    "vscode": {
     "languageId": "raw"
    }
   },
   "source": [
    "## Save to Unity Catalog\n",
    "\n",
    "Save the processed DataFrame as a Delta table in Unity Catalog for downstream processing and analysis."
   ]
  },
  {
   "cell_type": "code",
   "execution_count": 0,
   "metadata": {
    "application/vnd.databricks.v1+cell": {
     "cellMetadata": {},
     "inputWidgets": {},
     "nuid": "3057a29c-4b38-4d2a-894d-e70724447344",
     "showTitle": false,
     "tableResultSettingsMap": {},
     "title": ""
    }
   },
   "outputs": [],
   "source": [
    "# Save to Unity Catalog table using configured parameters\n",
    "output_table = f\"{CATALOG_NAME}.{SCHEMA_NAME}.{TABLE_NAME}\"\n",
    "images_df.write.format(\"delta\").mode(\"overwrite\").saveAsTable(output_table)\n",
    "print(f\"✅ Table saved to {output_table} in Unity Catalog.\")"
   ]
  }
 ],
 "metadata": {
  "application/vnd.databricks.v1+notebook": {
   "computePreferences": {
    "hardware": {
     "accelerator": null,
     "gpuPoolId": null,
     "memory": "HIGH"
    }
   },
   "dashboards": [],
   "environmentMetadata": {
    "base_environment": "",
    "environment_version": "4"
   },
   "inputWidgetPreferences": null,
   "language": "python",
   "notebookMetadata": {
    "pythonIndentUnit": 2
   },
   "notebookName": "00 - Crop Image Directory Processing and Metadata Storage",
   "widgets": {}
  },
  "kernelspec": {
   "display_name": "Python 3",
   "language": "python",
   "name": "python3"
  },
  "language_info": {
   "name": "python"
  }
 },
 "nbformat": 4,
 "nbformat_minor": 0
}
